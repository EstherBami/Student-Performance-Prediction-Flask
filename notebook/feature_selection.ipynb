{
 "cells": [
  {
   "cell_type": "markdown",
   "metadata": {},
   "source": [
    "#### FEATURE SELECTION\n",
    "#### Random Forest Regressor"
   ]
  },
  {
   "cell_type": "code",
   "execution_count": null,
   "metadata": {
    "vscode": {
     "languageId": "plaintext"
    }
   },
   "outputs": [],
   "source": [
    "import pandas as pd\n",
    "from sklearn.ensemble import RandomForestRegressor\n",
    "from sklearn.feature_selection import SelectFromModel\n",
    "from sklearn.model_selection import train_test_split\n",
    "from sklearn.metrics import mean_squared_error\n",
    "\n",
    "X=stud.drop('math_score',axis=1)\n",
    "y=stud['math_score']\n",
    "\n",
    "# Split the data into train and test sets\n",
    "X_train, X_test, y_train, y_test = train_test_split(X, y, test_size=0.2,random_state=42)\n",
    "\n",
    "# Create a RandomForestRegressor model\n",
    "rf=RandomForestRegressor(n_estimators=100,random_state=42)\n",
    "\n",
    "# Feature selection with SelectFromModel\n",
    "sfm=SelectFromModel(rf,threshold='median')\n",
    "sfm.fit(X_train,y_train)\n",
    "\n",
    "# Indices of selected features\n",
    "selected_indices=sfm.get_support(indices=True)\n",
    "\n",
    "# Names of selected features\n",
    "selected_names=[f\"feature_{index+1}\" for index in selected_indices]\n",
    "\n",
    "# Transform the training and testing sets with selected features\n",
    "X_train_selected=sfm.transform(X_train)\n",
    "X_test_selected=sfm.transform(X_test)\n",
    "\n",
    "#Train the model with the selected features \n",
    "rf.fit(X_train_selected,y_train)\n",
    "\n",
    "# Make prediction on the test set\n",
    "y_pred=rf.predict(X_test_selected)\n",
    "\n",
    "# Evaluate the model using Mean Squared Error\n",
    "mse=mean_squared_error(y_test,y_pred)\n",
    "\n",
    "# Print the list of selected features\n",
    "print('Selected Features:',selected_names)\n",
    "\n",
    "print(f'Mean Squared Error:{mse}')"
   ]
  }
 ],
 "metadata": {
  "language_info": {
   "name": "python"
  }
 },
 "nbformat": 4,
 "nbformat_minor": 2
}
